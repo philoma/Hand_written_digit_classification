{
  "nbformat": 4,
  "nbformat_minor": 0,
  "metadata": {
    "colab": {
      "name": "p8b_Hand written digit classification.ipynb",
      "provenance": []
    },
    "kernelspec": {
      "name": "python3",
      "display_name": "Python 3"
    },
    "language_info": {
      "name": "python"
    }
  },
  "cells": [
    {
      "cell_type": "code",
      "execution_count": 1,
      "metadata": {
        "id": "IkEguHd8IZX5"
      },
      "outputs": [],
      "source": [
        "import numpy as np\n",
        "import pandas as pd\n",
        "import matplotlib.pyplot as plt\n",
        "import seaborn as sns"
      ]
    },
    {
      "cell_type": "code",
      "source": [
        ""
      ],
      "metadata": {
        "id": "eV3To6NQIhHc"
      },
      "execution_count": null,
      "outputs": []
    },
    {
      "cell_type": "markdown",
      "source": [
        "Import data"
      ],
      "metadata": {
        "id": "ZCr3rAJNI08A"
      }
    },
    {
      "cell_type": "code",
      "source": [
        "from sklearn.datasets import load_digits"
      ],
      "metadata": {
        "id": "Ouf-6TsLI3PE"
      },
      "execution_count": 2,
      "outputs": []
    },
    {
      "cell_type": "code",
      "source": [
        "df=load_digits()"
      ],
      "metadata": {
        "id": "rxiUj9reI8At"
      },
      "execution_count": 3,
      "outputs": []
    },
    {
      "cell_type": "code",
      "source": [
        "_, axes=plt.subplots(nrows=1,ncols=4,figsize=(10,3))\n",
        "for ax, image, label in zip(axes,df.images,df.target):\n",
        "  ax.set_axis_off()\n",
        "  ax.imshow(image,cmap=plt.cm.gray_r,interpolation='nearest')\n",
        "  ax.set_title('Training: %i' % label)"
      ],
      "metadata": {
        "colab": {
          "base_uri": "https://localhost:8080/",
          "height": 168
        },
        "id": "pNE3CTC9I-To",
        "outputId": "6660acd0-989b-4175-ac75-10ba3e94b08d"
      },
      "execution_count": 11,
      "outputs": [
        {
          "output_type": "display_data",
          "data": {
            "text/plain": [
              "<Figure size 720x216 with 4 Axes>"
            ],
            "image/png": "[encoded data removed]"
          },
          "metadata": {
            "needs_background": "light"
          }
        }
      ]
    },
    {
      "cell_type": "markdown",
      "source": [
        "<h1>Data Preprocessing</h1>\n",
        "Flatten Image"
      ],
      "metadata": {
        "id": "doTLzKSEK0fH"
      }
    },
    {
      "cell_type": "code",
      "source": [
        "# 8*8 pixel  image flattened to 1*64 single dimension"
      ],
      "metadata": {
        "id": "WQQj3A0tJ6sl"
      },
      "execution_count": 12,
      "outputs": []
    },
    {
      "cell_type": "code",
      "source": [
        "df.images.shape"
      ],
      "metadata": {
        "colab": {
          "base_uri": "https://localhost:8080/"
        },
        "id": "PRsom_97PQay",
        "outputId": "968aab09-1791-4559-87d6-8f85457b9f3b"
      },
      "execution_count": 13,
      "outputs": [
        {
          "output_type": "execute_result",
          "data": {
            "text/plain": [
              "(1797, 8, 8)"
            ]
          },
          "metadata": {},
          "execution_count": 13
        }
      ]
    },
    {
      "cell_type": "code",
      "source": [
        "#1797 images of 8*8 pixels"
      ],
      "metadata": {
        "id": "Tni4JNunPUUc"
      },
      "execution_count": 14,
      "outputs": []
    },
    {
      "cell_type": "code",
      "source": [
        "df.images[0]"
      ],
      "metadata": {
        "colab": {
          "base_uri": "https://localhost:8080/"
        },
        "id": "AxC5SY4TPbA4",
        "outputId": "66e0c844-28b1-4031-df29-9075a30b5f07"
      },
      "execution_count": 15,
      "outputs": [
        {
          "output_type": "execute_result",
          "data": {
            "text/plain": [
              "array([[ 0.,  0.,  5., 13.,  9.,  1.,  0.,  0.],\n",
              "       [ 0.,  0., 13., 15., 10., 15.,  5.,  0.],\n",
              "       [ 0.,  3., 15.,  2.,  0., 11.,  8.,  0.],\n",
              "       [ 0.,  4., 12.,  0.,  0.,  8.,  8.,  0.],\n",
              "       [ 0.,  5.,  8.,  0.,  0.,  9.,  8.,  0.],\n",
              "       [ 0.,  4., 11.,  0.,  1., 12.,  7.,  0.],\n",
              "       [ 0.,  2., 14.,  5., 10., 12.,  0.,  0.],\n",
              "       [ 0.,  0.,  6., 13., 10.,  0.,  0.,  0.]])"
            ]
          },
          "metadata": {},
          "execution_count": 15
        }
      ]
    },
    {
      "cell_type": "code",
      "source": [
        "#observe above, we need to scale the data as well"
      ],
      "metadata": {
        "id": "OqWn7pccRh7T"
      },
      "execution_count": null,
      "outputs": []
    },
    {
      "cell_type": "code",
      "source": [
        "df.images[0].shape"
      ],
      "metadata": {
        "colab": {
          "base_uri": "https://localhost:8080/"
        },
        "id": "bXDuuqLYPcxz",
        "outputId": "0841bfc8-b8e8-463c-ac1b-5f7d1e61692c"
      },
      "execution_count": 16,
      "outputs": [
        {
          "output_type": "execute_result",
          "data": {
            "text/plain": [
              "(8, 8)"
            ]
          },
          "metadata": {},
          "execution_count": 16
        }
      ]
    },
    {
      "cell_type": "code",
      "source": [
        "#Flattening the images-\n",
        "n_samples=len(df.images)\n",
        "data=df.images.reshape((n_samples,-1))"
      ],
      "metadata": {
        "id": "HKkNvp-8PgLu"
      },
      "execution_count": 19,
      "outputs": []
    },
    {
      "cell_type": "code",
      "source": [
        "data[0]"
      ],
      "metadata": {
        "colab": {
          "base_uri": "https://localhost:8080/"
        },
        "id": "NKWIJsz1PlxH",
        "outputId": "23f6241c-1820-4393-ed0a-193abd372240"
      },
      "execution_count": 20,
      "outputs": [
        {
          "output_type": "execute_result",
          "data": {
            "text/plain": [
              "array([ 0.,  0.,  5., 13.,  9.,  1.,  0.,  0.,  0.,  0., 13., 15., 10.,\n",
              "       15.,  5.,  0.,  0.,  3., 15.,  2.,  0., 11.,  8.,  0.,  0.,  4.,\n",
              "       12.,  0.,  0.,  8.,  8.,  0.,  0.,  5.,  8.,  0.,  0.,  9.,  8.,\n",
              "        0.,  0.,  4., 11.,  0.,  1., 12.,  7.,  0.,  0.,  2., 14.,  5.,\n",
              "       10., 12.,  0.,  0.,  0.,  0.,  6., 13., 10.,  0.,  0.,  0.])"
            ]
          },
          "metadata": {},
          "execution_count": 20
        }
      ]
    },
    {
      "cell_type": "code",
      "source": [
        "data[0].shape"
      ],
      "metadata": {
        "colab": {
          "base_uri": "https://localhost:8080/"
        },
        "id": "tGFpjG1tQP9N",
        "outputId": "c1d0409e-0227-46d4-c234-ff68c6ac5fb3"
      },
      "execution_count": 21,
      "outputs": [
        {
          "output_type": "execute_result",
          "data": {
            "text/plain": [
              "(64,)"
            ]
          },
          "metadata": {},
          "execution_count": 21
        }
      ]
    },
    {
      "cell_type": "code",
      "source": [
        "data.shape"
      ],
      "metadata": {
        "colab": {
          "base_uri": "https://localhost:8080/"
        },
        "id": "iY67bW9iQV5-",
        "outputId": "79f3b341-632c-4cc5-a553-e96dcbc5c343"
      },
      "execution_count": 22,
      "outputs": [
        {
          "output_type": "execute_result",
          "data": {
            "text/plain": [
              "(1797, 64)"
            ]
          },
          "metadata": {},
          "execution_count": 22
        }
      ]
    },
    {
      "cell_type": "code",
      "source": [
        "#see above,the data has reduced to 1797*64 only"
      ],
      "metadata": {
        "id": "8AN4eJ-VQZhl"
      },
      "execution_count": 23,
      "outputs": []
    },
    {
      "cell_type": "code",
      "source": [
        ""
      ],
      "metadata": {
        "id": "XzrCxY5DQlrg"
      },
      "execution_count": null,
      "outputs": []
    },
    {
      "cell_type": "markdown",
      "source": [
        "Scaling Data"
      ],
      "metadata": {
        "id": "3S48SVc5Qpi-"
      }
    },
    {
      "cell_type": "code",
      "source": [
        "data.min()"
      ],
      "metadata": {
        "colab": {
          "base_uri": "https://localhost:8080/"
        },
        "id": "BHQV6qeBQrtN",
        "outputId": "8aa0c394-aca1-4225-dd60-842886c46b5c"
      },
      "execution_count": 24,
      "outputs": [
        {
          "output_type": "execute_result",
          "data": {
            "text/plain": [
              "0.0"
            ]
          },
          "metadata": {},
          "execution_count": 24
        }
      ]
    },
    {
      "cell_type": "code",
      "source": [
        "data.max()"
      ],
      "metadata": {
        "colab": {
          "base_uri": "https://localhost:8080/"
        },
        "id": "16Ob9DWZQtaj",
        "outputId": "8864211c-c111-4913-cbaf-c65438b50653"
      },
      "execution_count": 25,
      "outputs": [
        {
          "output_type": "execute_result",
          "data": {
            "text/plain": [
              "16.0"
            ]
          },
          "metadata": {},
          "execution_count": 25
        }
      ]
    },
    {
      "cell_type": "code",
      "source": [
        "data=data/16"
      ],
      "metadata": {
        "id": "d1i1ZKAkQvIp"
      },
      "execution_count": 26,
      "outputs": []
    },
    {
      "cell_type": "code",
      "source": [
        "data.min(), data.max()"
      ],
      "metadata": {
        "colab": {
          "base_uri": "https://localhost:8080/"
        },
        "id": "gx1XwBY3RtY-",
        "outputId": "0cd5fe63-874f-4738-b3e4-528f33f72f54"
      },
      "execution_count": 27,
      "outputs": [
        {
          "output_type": "execute_result",
          "data": {
            "text/plain": [
              "(0.0, 1.0)"
            ]
          },
          "metadata": {},
          "execution_count": 27
        }
      ]
    },
    {
      "cell_type": "code",
      "source": [
        "#yayy!! standardized !!"
      ],
      "metadata": {
        "id": "lOYUGTzGSJaF"
      },
      "execution_count": 28,
      "outputs": []
    },
    {
      "cell_type": "markdown",
      "source": [
        "Train test split data"
      ],
      "metadata": {
        "id": "p17SykUgSXq7"
      }
    },
    {
      "cell_type": "code",
      "source": [
        "from sklearn.model_selection import train_test_split"
      ],
      "metadata": {
        "id": "mccFwLytSOMc"
      },
      "execution_count": 29,
      "outputs": []
    },
    {
      "cell_type": "code",
      "source": [
        "X_train,X_test,y_train,y_test=train_test_split(data,df.target,train_size=0.7,random_state=2529)"
      ],
      "metadata": {
        "id": "X4alCm3bSewm"
      },
      "execution_count": 31,
      "outputs": []
    },
    {
      "cell_type": "code",
      "source": [
        "X_train.shape,X_test.shape,y_train.shape,y_test.shape"
      ],
      "metadata": {
        "colab": {
          "base_uri": "https://localhost:8080/"
        },
        "id": "xMJpUQglSqun",
        "outputId": "e3ae595e-da76-4ff1-ac35-a1c18773675b"
      },
      "execution_count": 32,
      "outputs": [
        {
          "output_type": "execute_result",
          "data": {
            "text/plain": [
              "((1257, 64), (540, 64), (1257,), (540,))"
            ]
          },
          "metadata": {},
          "execution_count": 32
        }
      ]
    },
    {
      "cell_type": "code",
      "source": [
        ""
      ],
      "metadata": {
        "id": "MDGm8sFQS-GB"
      },
      "execution_count": null,
      "outputs": []
    },
    {
      "cell_type": "markdown",
      "source": [
        "Random Forest Model"
      ],
      "metadata": {
        "id": "Zh0x_vlLTCsA"
      }
    },
    {
      "cell_type": "code",
      "source": [
        "from sklearn.ensemble import RandomForestClassifier"
      ],
      "metadata": {
        "id": "PRjNuud7TEx-"
      },
      "execution_count": 33,
      "outputs": []
    },
    {
      "cell_type": "code",
      "source": [
        "rf=RandomForestClassifier()"
      ],
      "metadata": {
        "id": "EqXUfV4ATKIA"
      },
      "execution_count": 34,
      "outputs": []
    },
    {
      "cell_type": "code",
      "source": [
        "rf.fit(X_train,y_train)"
      ],
      "metadata": {
        "colab": {
          "base_uri": "https://localhost:8080/"
        },
        "id": "5uQlAtY6TO6k",
        "outputId": "bd4cd9dd-278e-4a8d-b6ce-0bd3b7294695"
      },
      "execution_count": 35,
      "outputs": [
        {
          "output_type": "execute_result",
          "data": {
            "text/plain": [
              "RandomForestClassifier()"
            ]
          },
          "metadata": {},
          "execution_count": 35
        }
      ]
    },
    {
      "cell_type": "code",
      "source": [
        ""
      ],
      "metadata": {
        "id": "VsKMWGCOTT8l"
      },
      "execution_count": null,
      "outputs": []
    },
    {
      "cell_type": "markdown",
      "source": [
        "Predict Test data"
      ],
      "metadata": {
        "id": "gskv0dVMTVkC"
      }
    },
    {
      "cell_type": "code",
      "source": [
        "y_pred=rf.predict(X_test)"
      ],
      "metadata": {
        "id": "m7SalmlpTXat"
      },
      "execution_count": 36,
      "outputs": []
    },
    {
      "cell_type": "code",
      "source": [
        "y_pred"
      ],
      "metadata": {
        "colab": {
          "base_uri": "https://localhost:8080/"
        },
        "id": "s9f-KQLiTfHe",
        "outputId": "9f985c2a-3adc-4256-b472-45a9e50a31c0"
      },
      "execution_count": 37,
      "outputs": [
        {
          "output_type": "execute_result",
          "data": {
            "text/plain": [
              "array([1, 9, 4, 1, 1, 0, 6, 9, 6, 0, 0, 9, 6, 4, 5, 6, 8, 8, 8, 3, 0, 1,\n",
              "       2, 0, 8, 3, 1, 1, 7, 5, 0, 4, 1, 9, 5, 5, 4, 7, 1, 5, 7, 5, 7, 3,\n",
              "       3, 7, 6, 1, 9, 8, 0, 9, 7, 1, 9, 3, 4, 0, 8, 3, 0, 9, 8, 1, 5, 5,\n",
              "       0, 5, 7, 9, 5, 2, 6, 8, 4, 2, 2, 2, 8, 0, 4, 2, 1, 0, 7, 5, 5, 2,\n",
              "       1, 4, 9, 2, 4, 8, 2, 4, 9, 5, 4, 5, 1, 7, 1, 7, 7, 4, 2, 0, 0, 5,\n",
              "       1, 5, 7, 0, 1, 1, 5, 2, 5, 6, 8, 5, 7, 1, 1, 1, 9, 6, 9, 8, 7, 8,\n",
              "       7, 4, 7, 2, 9, 1, 8, 1, 2, 0, 8, 1, 2, 6, 3, 2, 3, 3, 1, 2, 1, 6,\n",
              "       9, 8, 9, 1, 4, 1, 7, 4, 5, 9, 1, 0, 6, 1, 3, 8, 1, 0, 7, 2, 3, 5,\n",
              "       5, 5, 1, 9, 5, 9, 5, 0, 1, 0, 3, 2, 9, 0, 8, 3, 5, 7, 3, 9, 8, 7,\n",
              "       4, 1, 6, 7, 8, 2, 6, 0, 6, 0, 7, 3, 1, 6, 2, 4, 6, 8, 5, 6, 2, 6,\n",
              "       5, 8, 7, 4, 2, 8, 9, 9, 3, 1, 4, 4, 7, 9, 1, 6, 3, 1, 9, 6, 4, 5,\n",
              "       0, 4, 2, 9, 0, 2, 0, 3, 8, 1, 2, 9, 1, 5, 2, 7, 0, 7, 9, 6, 6, 3,\n",
              "       1, 6, 3, 3, 6, 1, 1, 3, 5, 7, 8, 1, 5, 1, 0, 3, 7, 2, 8, 8, 7, 8,\n",
              "       8, 3, 3, 5, 9, 5, 7, 2, 0, 7, 7, 0, 6, 4, 1, 2, 4, 6, 5, 2, 4, 4,\n",
              "       1, 4, 9, 6, 4, 6, 4, 3, 3, 7, 5, 8, 1, 3, 0, 5, 2, 4, 5, 5, 8, 9,\n",
              "       9, 9, 4, 3, 2, 6, 3, 7, 6, 7, 1, 9, 2, 0, 1, 1, 2, 5, 8, 3, 1, 2,\n",
              "       3, 4, 5, 2, 9, 3, 2, 2, 8, 4, 1, 6, 2, 5, 3, 5, 1, 8, 5, 3, 8, 7,\n",
              "       7, 5, 5, 7, 0, 3, 8, 9, 8, 1, 6, 4, 7, 4, 3, 0, 0, 6, 6, 3, 6, 6,\n",
              "       5, 4, 9, 1, 1, 8, 4, 2, 3, 8, 3, 6, 9, 7, 2, 3, 5, 8, 5, 1, 9, 1,\n",
              "       7, 2, 4, 5, 2, 2, 9, 3, 4, 7, 1, 8, 9, 3, 6, 1, 8, 9, 4, 5, 4, 9,\n",
              "       3, 2, 2, 4, 1, 9, 8, 9, 0, 2, 5, 8, 5, 2, 5, 3, 1, 8, 9, 1, 6, 3,\n",
              "       4, 5, 7, 1, 0, 3, 6, 5, 1, 7, 0, 6, 0, 4, 8, 7, 6, 8, 2, 6, 6, 3,\n",
              "       5, 7, 7, 7, 0, 7, 6, 4, 4, 8, 7, 2, 6, 9, 7, 2, 4, 2, 1, 4, 6, 8,\n",
              "       5, 3, 3, 4, 4, 3, 4, 2, 0, 0, 2, 2, 2, 9, 1, 0, 1, 5, 5, 2, 5, 4,\n",
              "       7, 1, 2, 6, 2, 4, 2, 3, 6, 2, 3, 4])"
            ]
          },
          "metadata": {},
          "execution_count": 37
        }
      ]
    },
    {
      "cell_type": "code",
      "source": [
        "#0-9 digits"
      ],
      "metadata": {
        "id": "4BatsvbzTiCu"
      },
      "execution_count": 38,
      "outputs": []
    },
    {
      "cell_type": "markdown",
      "source": [
        "Model Accuracy"
      ],
      "metadata": {
        "id": "Xbym6QMcTu_J"
      }
    },
    {
      "cell_type": "code",
      "source": [
        "from sklearn.metrics import confusion_matrix,classification_report"
      ],
      "metadata": {
        "id": "zgucdXslTuCO"
      },
      "execution_count": 39,
      "outputs": []
    },
    {
      "cell_type": "code",
      "source": [
        "confusion_matrix(y_test,y_pred)"
      ],
      "metadata": {
        "colab": {
          "base_uri": "https://localhost:8080/"
        },
        "id": "Fhz4kTpPT17c",
        "outputId": "cbc15257-63bf-4e97-8198-1f4e2efc7eef"
      },
      "execution_count": 41,
      "outputs": [
        {
          "output_type": "execute_result",
          "data": {
            "text/plain": [
              "array([[43,  0,  0,  0,  0,  0,  0,  0,  0,  0],\n",
              "       [ 0, 64,  0,  0,  0,  0,  0,  0,  0,  0],\n",
              "       [ 0,  0, 61,  0,  0,  0,  0,  0,  0,  0],\n",
              "       [ 0,  0,  0, 51,  0,  1,  0,  0,  0,  0],\n",
              "       [ 0,  0,  0,  0, 53,  0,  0,  1,  0,  0],\n",
              "       [ 0,  0,  0,  0,  1, 57,  0,  0,  0,  0],\n",
              "       [ 0,  1,  0,  0,  0,  1, 49,  0,  1,  0],\n",
              "       [ 0,  0,  0,  0,  0,  0,  0, 50,  0,  0],\n",
              "       [ 0,  5,  0,  1,  0,  0,  0,  0, 47,  0],\n",
              "       [ 0,  0,  0,  1,  0,  2,  0,  1,  1, 48]])"
            ]
          },
          "metadata": {},
          "execution_count": 41
        }
      ]
    },
    {
      "cell_type": "code",
      "source": [
        "#1st row(0th index) is for 0 number\n",
        "#0- 43 0s are predicted as 0\n",
        "#1- 64  1s are predicted as 1\n",
        "#2- 61 2s are predicted as 1 and so on...\n",
        "#i.e. diagonals giving correct predictions, off diagonals giving u wrong"
      ],
      "metadata": {
        "id": "IrNohClSUZi9"
      },
      "execution_count": 45,
      "outputs": []
    },
    {
      "cell_type": "code",
      "source": [
        "print(classification_report(y_test,y_pred))"
      ],
      "metadata": {
        "colab": {
          "base_uri": "https://localhost:8080/"
        },
        "id": "Vn6sOcyfT5o-",
        "outputId": "a791bad5-f678-4322-aeaf-8dce423e0714"
      },
      "execution_count": 46,
      "outputs": [
        {
          "output_type": "stream",
          "name": "stdout",
          "text": [
            "              precision    recall  f1-score   support\n",
            "\n",
            "           0       1.00      1.00      1.00        43\n",
            "           1       0.91      1.00      0.96        64\n",
            "           2       1.00      1.00      1.00        61\n",
            "           3       0.96      0.98      0.97        52\n",
            "           4       0.98      0.98      0.98        54\n",
            "           5       0.93      0.98      0.96        58\n",
            "           6       1.00      0.94      0.97        52\n",
            "           7       0.96      1.00      0.98        50\n",
            "           8       0.96      0.89      0.92        53\n",
            "           9       1.00      0.91      0.95        53\n",
            "\n",
            "    accuracy                           0.97       540\n",
            "   macro avg       0.97      0.97      0.97       540\n",
            "weighted avg       0.97      0.97      0.97       540\n",
            "\n"
          ]
        }
      ]
    },
    {
      "cell_type": "code",
      "source": [
        ""
      ],
      "metadata": {
        "id": "_7riCKcCUBse"
      },
      "execution_count": null,
      "outputs": []
    }
  ]
}